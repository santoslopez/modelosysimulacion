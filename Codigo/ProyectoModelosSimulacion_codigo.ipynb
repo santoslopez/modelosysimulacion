{
  "nbformat": 4,
  "nbformat_minor": 0,
  "metadata": {
    "colab": {
      "provenance": []
    },
    "kernelspec": {
      "name": "python3",
      "display_name": "Python 3"
    },
    "language_info": {
      "name": "python"
    }
  },
  "cells": [
    {
      "cell_type": "code",
      "execution_count": null,
      "metadata": {
        "id": "2NC4lBFZ7bIW"
      },
      "outputs": [],
      "source": [
        "# Solo filtra los datos que cumplan con la condición que el empleo sea igual a \n",
        "base22 <- read_excel(\"2021_2019.xlsx\") #Incorporación de la base de datos\n",
        "# Filtrar las filas que cumplan la condición de que \"OCUPACIÓN A DOS DÍGITOS\" sea igual a 60\n",
        "datos_filtrados <- subset(base22,`OCUPACIÓN A DOS DÍGITOS` == 51)\n",
        "\n",
        "# Seleccionar únicamente las columnas deseadas\n",
        "datos_filtrados_seleccionadas <- datos_filtrados[, c(\"SUELDO O SALARIOS\",\"EDAD\",\"TIEMPO DE TRABAJO\",\"TAMAÑO EMPRESA\",\"NIVEL DE ESTUDIOS APROBADOS\",\"SEXO\")]\n",
        "\n",
        "datos_filtrados_seleccionadas1 <- na.omit(datos_filtrados_seleccionadas)\n",
        "\n",
        "# Calcular la matriz de correlación\n",
        "matriz_correlacion <- cor(datos_filtrados_seleccionadas1, use = \"complete.obs\")\n",
        "\n",
        "# Imprimir la matriz de correlación\n",
        "print(matriz_correlacion)"
      ]
    },
    {
      "cell_type": "code",
      "source": [
        "library(readxl)\n",
        "library(ggplot2)\n",
        "\n",
        "mi_funcion <- function(codigoEmpleo, titulo, etiqueta_x, etiqueta_y, columna) {\n",
        "  # Leer archivo de Excel\n",
        "  archivoExcel <- read_excel(\"2021_2019.xlsx\")\n",
        "\n",
        "  # Filtrar solo los que tengan cierto empleo\n",
        "  condicionarEmpleo <- subset(archivoExcel, `OCUPACIÓN A DOS DÍGITOS` == codigoEmpleo)\n",
        "\n",
        "  # No tomamos en cuenta valores NA, le pasamos el nombre de la variable que está en excel\n",
        "  edad <- na.omit(condicionarEmpleo[[columna]])\n",
        "\n",
        "  # Histograma\n",
        "  ggplot(data = data.frame(edad), aes(x = edad)) +\n",
        "    geom_histogram(bins = 10, color = \"black\", fill = \"lightblue\") +\n",
        "    ggtitle(titulo) +\n",
        "    xlab(etiqueta_x) +\n",
        "    ylab(etiqueta_y)\n",
        "}\n",
        "\n",
        "# el parametro columna es el nombre de la variable que está en EXCEL\n",
        "mi_funcion(51, \"Distribución de probabilidad de edad\", \"Edad\", \"Frecuencia\", \"EDAD\")\n",
        "mi_funcion(51, \"Distribución de probabilidad de tiempo de trabajo\", \"TIEMPO DE TRABAJO\", \"Frecuencia\", \"TIEMPO DE TRABAJO\")\n",
        "\n",
        "mi_funcion(51, \"Distribución de probabilidad de tamaño empresa\", \"TAMAÑO EMPRESA\", \"Frecuencia\", \"TAMAÑO EMPRESA\")\n",
        "\n",
        "mi_funcion(51, \"Distribución de probabilidad de sexo\", \"SEXO\", \"Frecuencia\", \"SEXO\")"
      ],
      "metadata": {
        "id": "G5-sJzL-7gKF"
      },
      "execution_count": null,
      "outputs": []
    },
    {
      "cell_type": "code",
      "source": [
        "# La funcion para que calcule  la media, mediana, desviacion estandar (datos estadisticos)\n",
        "# solo se consideran datos que esten limpios o que no tengan nada de NA \n",
        "datosEstadisticos<- function(nombreVariable){\n",
        "    archivoExcel <- read_excel(\"2021_2019.xlsx\")\n",
        "    \n",
        "    # se filtra solo los que tengan cierto empleo, por ejemplo:\n",
        "    condicionarEmpleo <- subset(archivoExcel, `OCUPACIÓN A DOS DÍGITOS` == 51)\n",
        "\n",
        "    variableConvertido <- condicionarEmpleo[[nombreVariable]]\n",
        "    # En todos los calculos no se toman en cuentan valores faltantes\n",
        "    mediaVariable <-mean(variableConvertido,na.rm = TRUE)\n",
        "    # para que no devuelva una matriz, es necesario convertirlo a vector\n",
        "    media_convertido <- as.vector(mediaVariable)\n",
        "    medianaVariable <-median(variableConvertido,na.rm = TRUE)\n",
        "    # Calcular la moda\n",
        "     modaVariable <- names(sort(table(variableConvertido), decreasing = TRUE)[1])\n",
        "     \n",
        "    # Calcular la varianza\n",
        "    varianza <- var(variableConvertido, na.rm = TRUE)\n",
        "    \n",
        "       \n",
        "        print(paste(\"Calculos no realizados en: \",nombreVariable))\n",
        "        print(paste(\"Porque no calcula los datos estadisticos aun de solo cierto empleo: \"))\n",
        "\n",
        "        cat(\"\\nen\")\n",
        "     \n",
        "        \n",
        "        # desviacion estandar\n",
        "        desviacionStandar <-sd(variableConvertido,na.rm = TRUE)\n",
        "        print(paste(\"Datos estadísticos de: \",nombreVariable))\n",
        "        print(paste(\"La media es: \",na.omit(media_convertido)))\n",
        "        print(paste(\"La mediana es: \",na.omit(medianaVariable)))\n",
        "        print(paste(\"La desviacion estándar es: \",na.omit(desviacionStandar)))\n",
        "        print(paste(\"La moda es: \",na.omit( modaVariable)))\n",
        "        print(paste(\"La varianza es: \",na.omit(varianza)))\n",
        "        # Calcular cuartiles\n",
        "        cuartil1 <- quantile(variableConvertido, 0.25, na.rm = TRUE)\n",
        "        cuartil2 <- quantile(variableConvertido, 0.5, na.rm = TRUE)\n",
        "        cuartil3 <- quantile(variableConvertido, 0.75, na.rm = TRUE)\n",
        "        \n",
        "        \n",
        "        \n",
        "        \n",
        "        print(paste(\"El primer cuartil 1 es: \",na.omit(cuartil1)))\n",
        "        print(paste(\"El segundo cuartil 2 es: \",na.omit(cuartil2)))\n",
        "        print(paste(\"El tercer cuartil 3 es: \",na.omit(cuartil3)))\n",
        "\n",
        "        # Calcular percentiles\n",
        "        percentil25 <- quantile(variableConvertido, 0.25, na.rm = TRUE)\n",
        "        percentil50 <- quantile(variableConvertido, 0.5, na.rm = TRUE)\n",
        "        percentil75 <- quantile(variableConvertido, 0.75, na.rm = TRUE)\n",
        "        print(paste(\"El percentil 25 es: \",na.omit(percentil25)))\n",
        "        print(paste(\"El percentil 50 es: \",na.omit(percentil50)))\n",
        "        print(paste(\"El percentil 50 es: \",na.omit(percentil75)))\n",
        "\n",
        "\n",
        "        cat(\"\\nen\")\n",
        "     \n",
        "         \n",
        "\n",
        "}\n",
        "#print(\"Datos estadisticos de SUELDO O VARIABLE\")\n",
        "datosEstadisticos(\"SUELDO O SALARIOS\")\n",
        "datosEstadisticos(\"SEXO\")\n",
        "datosEstadisticos(\"EDAD\")\n",
        "datosEstadisticos(\"NIVEL DE ESTUDIOS APROBADOS\")\n",
        "datosEstadisticos(\"OCUPACIÓN A DOS DÍGITOS\")\n",
        "datosEstadisticos(\"TIEMPO DE TRABAJO\")"
      ],
      "metadata": {
        "id": "8pKEu4aX7v5K"
      },
      "execution_count": null,
      "outputs": []
    }
  ]
}