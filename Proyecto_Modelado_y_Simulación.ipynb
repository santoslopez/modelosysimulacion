{
 "cells": [
  {
   "cell_type": "markdown",
   "metadata": {
    "id": "ltqC8QvyRt9A"
   },
   "source": [
    "# Modelo del salario devengado en guatemala\n",
    "\n",
    "El modelo planteado es un modelo económetrico para identificar las variables que influyen en el sueldo devengado en Guatemala, con base a la ENEI (2021). La variable dependiente o de salida es **sueldo o salario devengado**. \n",
    "\n",
    "\n",
    "Se incorpora la base de datos de la Encuesta Nacional de Empleo e Ingresos (ENEI) del año 2021. Se realizó una pequeña transformación por medio de Excel para incluir los nombres de los campos.\n",
    "\n",
    "Los pasos del proceso son los siguientes:\n",
    "1. Instalación de librerías\n",
    "2. Incorporación de bibliotecas\n",
    "3. Incorporación de la base de datos\n",
    "4. Hacer el perfilado de datos para conocer cuantos valores nulos hay en la base de datos\n",
    "5. Limpieza de las variables (eliminar los registros que contenga campos vacios o nulos)\n",
    "6. Realizar matriz de correlación de variables para identificar las variables que pueden influir en los cambios de la variable dependiente.\n",
    "\n"
   ]
  },
  {
   "cell_type": "markdown",
   "metadata": {
    "id": "SbGwmPhc1iXn"
   },
   "source": [
    "# Instalación de paquetes y bibliotecas"
   ]
  },
  {
   "cell_type": "code",
   "execution_count": 1,
   "metadata": {
    "colab": {
     "base_uri": "https://localhost:8080/"
    },
    "id": "D5Al0nmKJGSD",
    "outputId": "dae754a8-b3cd-4724-f51a-2d46904e3708",
    "tags": [],
    "vscode": {
     "languageId": "r"
    }
   },
   "outputs": [
    {
     "name": "stderr",
     "output_type": "stream",
     "text": [
      "Updating HTML index of packages in '.Library'\n",
      "\n",
      "Making 'packages.html' ...\n",
      " done\n",
      "\n",
      "Updating HTML index of packages in '.Library'\n",
      "\n",
      "Making 'packages.html' ...\n",
      " done\n",
      "\n",
      "Updating HTML index of packages in '.Library'\n",
      "\n",
      "Making 'packages.html' ...\n",
      " done\n",
      "\n",
      "also installing the dependency ‘reshape’\n",
      "\n",
      "\n",
      "Updating HTML index of packages in '.Library'\n",
      "\n",
      "Making 'packages.html' ...\n",
      " done\n",
      "\n",
      "also installing the dependencies ‘checkmate’, ‘cluster’, ‘foreign’, ‘gridExtra’, ‘htmlTable’, ‘viridis’, ‘Formula’\n",
      "\n",
      "\n",
      "Updating HTML index of packages in '.Library'\n",
      "\n",
      "Making 'packages.html' ...\n",
      " done\n",
      "\n",
      "Updating HTML index of packages in '.Library'\n",
      "\n",
      "Making 'packages.html' ...\n",
      " done\n",
      "\n",
      "Updating HTML index of packages in '.Library'\n",
      "\n",
      "Making 'packages.html' ...\n",
      " done\n",
      "\n",
      "also installing the dependencies ‘gtools’, ‘caTools’, ‘gplots’, ‘ROCR’, ‘pander’, ‘lazyeval’, ‘moments’, ‘entropy’\n",
      "\n",
      "\n",
      "Updating HTML index of packages in '.Library'\n",
      "\n",
      "Making 'packages.html' ...\n",
      " done\n",
      "\n",
      "Updating HTML index of packages in '.Library'\n",
      "\n",
      "Making 'packages.html' ...\n",
      " done\n",
      "\n"
     ]
    }
   ],
   "source": [
    "#Instalación de las bibliotecas\n",
    " install.packages(\"readxl\")\n",
    " install.packages(\"dplyr\")\n",
    " install.packages(\"ggplot2\")\n",
    " install.packages(\"GGally\")\n",
    " install.packages(\"Hmisc\")\n",
    " install.packages(\"corrplot\")\n",
    " install.packages(\"PerformanceAnalytics\")\n",
    " install.packages(\"funModeling\")\n",
    "install.packages(\"tidyr\")"
   ]
  },
  {
   "cell_type": "code",
   "execution_count": 2,
   "metadata": {
    "id": "ByB_m-tSJP-W",
    "tags": [],
    "vscode": {
     "languageId": "r"
    }
   },
   "outputs": [
    {
     "name": "stderr",
     "output_type": "stream",
     "text": [
      "\n",
      "Attaching package: ‘dplyr’\n",
      "\n",
      "\n",
      "The following objects are masked from ‘package:stats’:\n",
      "\n",
      "    filter, lag\n",
      "\n",
      "\n",
      "The following objects are masked from ‘package:base’:\n",
      "\n",
      "    intersect, setdiff, setequal, union\n",
      "\n",
      "\n",
      "Registered S3 method overwritten by 'GGally':\n",
      "  method from   \n",
      "  +.gg   ggplot2\n",
      "\n",
      "\n",
      "Attaching package: ‘Hmisc’\n",
      "\n",
      "\n",
      "The following objects are masked from ‘package:dplyr’:\n",
      "\n",
      "    src, summarize\n",
      "\n",
      "\n",
      "The following objects are masked from ‘package:base’:\n",
      "\n",
      "    format.pval, units\n",
      "\n",
      "\n",
      "corrplot 0.92 loaded\n",
      "\n",
      "Loading required package: xts\n",
      "\n",
      "Loading required package: zoo\n",
      "\n",
      "\n",
      "Attaching package: ‘zoo’\n",
      "\n",
      "\n",
      "The following objects are masked from ‘package:base’:\n",
      "\n",
      "    as.Date, as.Date.numeric\n",
      "\n",
      "\n",
      "\n",
      "################################### WARNING ###################################\n",
      "# We noticed you have dplyr installed. The dplyr lag() function breaks how    #\n",
      "# base R's lag() function is supposed to work, which breaks lag(my_xts).      #\n",
      "#                                                                             #\n",
      "# Calls to lag(my_xts) that you enter or source() into this session won't     #\n",
      "# work correctly.                                                             #\n",
      "#                                                                             #\n",
      "# All package code is unaffected because it is protected by the R namespace   #\n",
      "# mechanism.                                                                  #\n",
      "#                                                                             #\n",
      "# Set `options(xts.warn_dplyr_breaks_lag = FALSE)` to suppress this warning.  #\n",
      "#                                                                             #\n",
      "# You can use stats::lag() to make sure you're not using dplyr::lag(), or you #\n",
      "# can add conflictRules('dplyr', exclude = 'lag') to your .Rprofile to stop   #\n",
      "# dplyr from breaking base R's lag() function.                                #\n",
      "################################### WARNING ###################################\n",
      "\n",
      "\n",
      "Attaching package: ‘xts’\n",
      "\n",
      "\n",
      "The following objects are masked from ‘package:dplyr’:\n",
      "\n",
      "    first, last\n",
      "\n",
      "\n",
      "\n",
      "Attaching package: ‘PerformanceAnalytics’\n",
      "\n",
      "\n",
      "The following object is masked from ‘package:graphics’:\n",
      "\n",
      "    legend\n",
      "\n",
      "\n",
      "funModeling v.1.9.4 :)\n",
      "Examples and tutorials at livebook.datascienceheroes.com\n",
      " / Now in Spanish: librovivodecienciadedatos.ai\n",
      "\n",
      "\n",
      "Attaching package: ‘funModeling’\n",
      "\n",
      "\n",
      "The following object is masked from ‘package:GGally’:\n",
      "\n",
      "    range01\n",
      "\n",
      "\n"
     ]
    }
   ],
   "source": [
    "#Incorporación de los paquetes al jupiter notebook\n",
    " library(readxl)\n",
    " library(dplyr)\n",
    " library(ggplot2)\n",
    " library(GGally)\n",
    " library(Hmisc)\n",
    " library(corrplot)\n",
    " library(PerformanceAnalytics)\n",
    " library(funModeling)\n",
    "library(tidyr)"
   ]
  },
  {
   "cell_type": "code",
   "execution_count": 5,
   "metadata": {
    "colab": {
     "base_uri": "https://localhost:8080/",
     "height": 164
    },
    "id": "495ZforBR0wv",
    "outputId": "df0b74f3-f81c-44cf-ac3d-c9e7f0e6f565",
    "tags": [],
    "vscode": {
     "languageId": "r"
    }
   },
   "outputs": [],
   "source": [
    "base <- read_excel(\"2021_2019.xlsx\") #Incorporación de la base de datos"
   ]
  },
  {
   "cell_type": "code",
   "execution_count": 6,
   "metadata": {
    "colab": {
     "base_uri": "https://localhost:8080/",
     "height": 376
    },
    "id": "IaczTKcK0BwX",
    "outputId": "d264649b-bcb6-4c6d-c8c5-38e15121a0a7",
    "tags": [],
    "vscode": {
     "languageId": "r"
    }
   },
   "outputs": [
    {
     "data": {
      "text/html": [
       "<table class=\"dataframe\">\n",
       "<caption>A tibble: 6 × 7</caption>\n",
       "<thead>\n",
       "\t<tr><th scope=col>SEXO</th><th scope=col>EDAD</th><th scope=col>NIVEL DE ESTUDIOS APROBADOS</th><th scope=col>OCUPACIÓN A DOS DÍGITOS</th><th scope=col>TAMAÑO EMPRESA</th><th scope=col>SUELDO O SALARIOS</th><th scope=col>TIEMPO DE TRABAJO</th></tr>\n",
       "\t<tr><th scope=col>&lt;dbl&gt;</th><th scope=col>&lt;dbl&gt;</th><th scope=col>&lt;dbl&gt;</th><th scope=col>&lt;dbl&gt;</th><th scope=col>&lt;dbl&gt;</th><th scope=col>&lt;dbl&gt;</th><th scope=col>&lt;dbl&gt;</th></tr>\n",
       "</thead>\n",
       "<tbody>\n",
       "\t<tr><td>2</td><td>43</td><td>4</td><td>72</td><td>2400</td><td>4000</td><td> 3</td></tr>\n",
       "\t<tr><td>1</td><td>20</td><td>4</td><td>43</td><td> 200</td><td>3000</td><td> 0</td></tr>\n",
       "\t<tr><td>2</td><td>16</td><td>3</td><td>NA</td><td>  NA</td><td>  NA</td><td>NA</td></tr>\n",
       "\t<tr><td>2</td><td>14</td><td>3</td><td>NA</td><td>  NA</td><td>  NA</td><td>NA</td></tr>\n",
       "\t<tr><td>1</td><td>69</td><td>4</td><td>NA</td><td>  NA</td><td>  NA</td><td>NA</td></tr>\n",
       "\t<tr><td>2</td><td>66</td><td>3</td><td>NA</td><td>  NA</td><td>  NA</td><td>NA</td></tr>\n",
       "</tbody>\n",
       "</table>\n"
      ],
      "text/latex": [
       "A tibble: 6 × 7\n",
       "\\begin{tabular}{lllllll}\n",
       " SEXO & EDAD & NIVEL DE ESTUDIOS APROBADOS & OCUPACIÓN A DOS DÍGITOS & TAMAÑO EMPRESA & SUELDO O SALARIOS & TIEMPO DE TRABAJO\\\\\n",
       " <dbl> & <dbl> & <dbl> & <dbl> & <dbl> & <dbl> & <dbl>\\\\\n",
       "\\hline\n",
       "\t 2 & 43 & 4 & 72 & 2400 & 4000 &  3\\\\\n",
       "\t 1 & 20 & 4 & 43 &  200 & 3000 &  0\\\\\n",
       "\t 2 & 16 & 3 & NA &   NA &   NA & NA\\\\\n",
       "\t 2 & 14 & 3 & NA &   NA &   NA & NA\\\\\n",
       "\t 1 & 69 & 4 & NA &   NA &   NA & NA\\\\\n",
       "\t 2 & 66 & 3 & NA &   NA &   NA & NA\\\\\n",
       "\\end{tabular}\n"
      ],
      "text/markdown": [
       "\n",
       "A tibble: 6 × 7\n",
       "\n",
       "| SEXO &lt;dbl&gt; | EDAD &lt;dbl&gt; | NIVEL DE ESTUDIOS APROBADOS &lt;dbl&gt; | OCUPACIÓN A DOS DÍGITOS &lt;dbl&gt; | TAMAÑO EMPRESA &lt;dbl&gt; | SUELDO O SALARIOS &lt;dbl&gt; | TIEMPO DE TRABAJO &lt;dbl&gt; |\n",
       "|---|---|---|---|---|---|---|\n",
       "| 2 | 43 | 4 | 72 | 2400 | 4000 |  3 |\n",
       "| 1 | 20 | 4 | 43 |  200 | 3000 |  0 |\n",
       "| 2 | 16 | 3 | NA |   NA |   NA | NA |\n",
       "| 2 | 14 | 3 | NA |   NA |   NA | NA |\n",
       "| 1 | 69 | 4 | NA |   NA |   NA | NA |\n",
       "| 2 | 66 | 3 | NA |   NA |   NA | NA |\n",
       "\n"
      ],
      "text/plain": [
       "  SEXO EDAD NIVEL DE ESTUDIOS APROBADOS OCUPACIÓN A DOS DÍGITOS TAMAÑO EMPRESA\n",
       "1 2    43   4                           72                      2400          \n",
       "2 1    20   4                           43                       200          \n",
       "3 2    16   3                           NA                        NA          \n",
       "4 2    14   3                           NA                        NA          \n",
       "5 1    69   4                           NA                        NA          \n",
       "6 2    66   3                           NA                        NA          \n",
       "  SUELDO O SALARIOS TIEMPO DE TRABAJO\n",
       "1 4000               3               \n",
       "2 3000               0               \n",
       "3   NA              NA               \n",
       "4   NA              NA               \n",
       "5   NA              NA               \n",
       "6   NA              NA               "
      ]
     },
     "metadata": {},
     "output_type": "display_data"
    }
   ],
   "source": [
    "# Mostrar los primeros 6 registros\n",
    "head(base)"
   ]
  },
  {
   "cell_type": "code",
   "execution_count": 7,
   "metadata": {
    "colab": {
     "base_uri": "https://localhost:8080/",
     "height": 376
    },
    "id": "4GK8beuH0MGn",
    "outputId": "fa9941c3-89e7-4039-e0c2-c7d2233e7add",
    "tags": [],
    "vscode": {
     "languageId": "r"
    }
   },
   "outputs": [
    {
     "data": {
      "text/html": [
       "<table class=\"dataframe\">\n",
       "<caption>A tibble: 6 × 7</caption>\n",
       "<thead>\n",
       "\t<tr><th scope=col>SEXO</th><th scope=col>EDAD</th><th scope=col>NIVEL DE ESTUDIOS APROBADOS</th><th scope=col>OCUPACIÓN A DOS DÍGITOS</th><th scope=col>TAMAÑO EMPRESA</th><th scope=col>SUELDO O SALARIOS</th><th scope=col>TIEMPO DE TRABAJO</th></tr>\n",
       "\t<tr><th scope=col>&lt;dbl&gt;</th><th scope=col>&lt;dbl&gt;</th><th scope=col>&lt;dbl&gt;</th><th scope=col>&lt;dbl&gt;</th><th scope=col>&lt;dbl&gt;</th><th scope=col>&lt;dbl&gt;</th><th scope=col>&lt;dbl&gt;</th></tr>\n",
       "</thead>\n",
       "<tbody>\n",
       "\t<tr><td>2</td><td>36</td><td>NA</td><td>NA</td><td>NA</td><td>NA</td><td>NA</td></tr>\n",
       "\t<tr><td>2</td><td>18</td><td>NA</td><td>NA</td><td>NA</td><td>NA</td><td>NA</td></tr>\n",
       "\t<tr><td>1</td><td>11</td><td>NA</td><td>NA</td><td>NA</td><td>NA</td><td>NA</td></tr>\n",
       "\t<tr><td>1</td><td>85</td><td>NA</td><td>NA</td><td>NA</td><td>NA</td><td>NA</td></tr>\n",
       "\t<tr><td>2</td><td>58</td><td>NA</td><td>NA</td><td>NA</td><td>NA</td><td>NA</td></tr>\n",
       "\t<tr><td>1</td><td>23</td><td>NA</td><td>NA</td><td>NA</td><td>NA</td><td>NA</td></tr>\n",
       "</tbody>\n",
       "</table>\n"
      ],
      "text/latex": [
       "A tibble: 6 × 7\n",
       "\\begin{tabular}{lllllll}\n",
       " SEXO & EDAD & NIVEL DE ESTUDIOS APROBADOS & OCUPACIÓN A DOS DÍGITOS & TAMAÑO EMPRESA & SUELDO O SALARIOS & TIEMPO DE TRABAJO\\\\\n",
       " <dbl> & <dbl> & <dbl> & <dbl> & <dbl> & <dbl> & <dbl>\\\\\n",
       "\\hline\n",
       "\t 2 & 36 & NA & NA & NA & NA & NA\\\\\n",
       "\t 2 & 18 & NA & NA & NA & NA & NA\\\\\n",
       "\t 1 & 11 & NA & NA & NA & NA & NA\\\\\n",
       "\t 1 & 85 & NA & NA & NA & NA & NA\\\\\n",
       "\t 2 & 58 & NA & NA & NA & NA & NA\\\\\n",
       "\t 1 & 23 & NA & NA & NA & NA & NA\\\\\n",
       "\\end{tabular}\n"
      ],
      "text/markdown": [
       "\n",
       "A tibble: 6 × 7\n",
       "\n",
       "| SEXO &lt;dbl&gt; | EDAD &lt;dbl&gt; | NIVEL DE ESTUDIOS APROBADOS &lt;dbl&gt; | OCUPACIÓN A DOS DÍGITOS &lt;dbl&gt; | TAMAÑO EMPRESA &lt;dbl&gt; | SUELDO O SALARIOS &lt;dbl&gt; | TIEMPO DE TRABAJO &lt;dbl&gt; |\n",
       "|---|---|---|---|---|---|---|\n",
       "| 2 | 36 | NA | NA | NA | NA | NA |\n",
       "| 2 | 18 | NA | NA | NA | NA | NA |\n",
       "| 1 | 11 | NA | NA | NA | NA | NA |\n",
       "| 1 | 85 | NA | NA | NA | NA | NA |\n",
       "| 2 | 58 | NA | NA | NA | NA | NA |\n",
       "| 1 | 23 | NA | NA | NA | NA | NA |\n",
       "\n"
      ],
      "text/plain": [
       "  SEXO EDAD NIVEL DE ESTUDIOS APROBADOS OCUPACIÓN A DOS DÍGITOS TAMAÑO EMPRESA\n",
       "1 2    36   NA                          NA                      NA            \n",
       "2 2    18   NA                          NA                      NA            \n",
       "3 1    11   NA                          NA                      NA            \n",
       "4 1    85   NA                          NA                      NA            \n",
       "5 2    58   NA                          NA                      NA            \n",
       "6 1    23   NA                          NA                      NA            \n",
       "  SUELDO O SALARIOS TIEMPO DE TRABAJO\n",
       "1 NA                NA               \n",
       "2 NA                NA               \n",
       "3 NA                NA               \n",
       "4 NA                NA               \n",
       "5 NA                NA               \n",
       "6 NA                NA               "
      ]
     },
     "metadata": {},
     "output_type": "display_data"
    }
   ],
   "source": [
    "#Mostrar los últimos 6 registros\n",
    "tail(base)"
   ]
  },
  {
   "cell_type": "code",
   "execution_count": 8,
   "metadata": {
    "colab": {
     "base_uri": "https://localhost:8080/"
    },
    "id": "QqUL4xpZ0Z_X",
    "outputId": "c45fa9d7-a8b0-4154-aeee-d7a856572f91",
    "tags": [],
    "vscode": {
     "languageId": "r"
    }
   },
   "outputs": [
    {
     "name": "stdout",
     "output_type": "stream",
     "text": [
      "tibble [48,638 × 7] (S3: tbl_df/tbl/data.frame)\n",
      " $ SEXO                       : num [1:48638] 2 1 2 2 1 2 1 2 2 1 ...\n",
      " $ EDAD                       : num [1:48638] 43 20 16 14 69 66 27 24 8 40 ...\n",
      " $ NIVEL DE ESTUDIOS APROBADOS: num [1:48638] 4 4 3 3 4 3 4 4 2 4 ...\n",
      " $ OCUPACIÓN A DOS DÍGITOS    : num [1:48638] 72 43 NA NA NA NA NA 42 NA 83 ...\n",
      " $ TAMAÑO EMPRESA             : num [1:48638] 2400 200 NA NA NA NA NA 3000 NA 1 ...\n",
      " $ SUELDO O SALARIOS          : num [1:48638] 4000 3000 NA NA NA NA NA 4200 NA NA ...\n",
      " $ TIEMPO DE TRABAJO          : num [1:48638] 3 0 NA NA NA NA NA 2 NA 3 ...\n"
     ]
    }
   ],
   "source": [
    "#Mostrar solo el tipo de datos de cada columna\n",
    "str(base)"
   ]
  },
  {
   "cell_type": "code",
   "execution_count": 9,
   "metadata": {
    "colab": {
     "base_uri": "https://localhost:8080/"
    },
    "id": "fw4at4OD0i33",
    "outputId": "a5fd10d1-0cf8-4d6b-a480-a9575eac23da",
    "tags": [],
    "vscode": {
     "languageId": "r"
    }
   },
   "outputs": [
    {
     "name": "stdout",
     "output_type": "stream",
     "text": [
      "Rows: 48,638\n",
      "Columns: 7\n",
      "$ SEXO                          \u001b[3m\u001b[90m<dbl>\u001b[39m\u001b[23m 2, 1, 2, 2, 1, 2, 1, 2, 2, 1, 1, 1, 1, 2…\n",
      "$ EDAD                          \u001b[3m\u001b[90m<dbl>\u001b[39m\u001b[23m 43, 20, 16, 14, 69, 66, 27, 24, 8, 40, 3…\n",
      "$ `NIVEL DE ESTUDIOS APROBADOS` \u001b[3m\u001b[90m<dbl>\u001b[39m\u001b[23m 4, 4, 3, 3, 4, 3, 4, 4, 2, 4, 4, 4, 5, 2…\n",
      "$ `OCUPACIÓN A DOS DÍGITOS`     \u001b[3m\u001b[90m<dbl>\u001b[39m\u001b[23m 72, 43, NA, NA, NA, NA, NA, 42, NA, 83, …\n",
      "$ `TAMAÑO EMPRESA`              \u001b[3m\u001b[90m<dbl>\u001b[39m\u001b[23m 2400, 200, NA, NA, NA, NA, NA, 3000, NA,…\n",
      "$ `SUELDO O SALARIOS`           \u001b[3m\u001b[90m<dbl>\u001b[39m\u001b[23m 4000, 3000, NA, NA, NA, NA, NA, 4200, NA…\n",
      "$ `TIEMPO DE TRABAJO`           \u001b[3m\u001b[90m<dbl>\u001b[39m\u001b[23m 3, 0, NA, NA, NA, NA, NA, 2, NA, 3, 5, 5…\n"
     ]
    }
   ],
   "source": [
    "# Es una función de diplyr que muestra los datos de manera horizontal y su contenido\n",
    "glimpse(base)"
   ]
  },
  {
   "cell_type": "markdown",
   "metadata": {
    "id": "YzyhBFyA1YtY"
   },
   "source": [
    "# Data Profiling\n"
   ]
  },
  {
   "cell_type": "code",
   "execution_count": 10,
   "metadata": {
    "colab": {
     "base_uri": "https://localhost:8080/",
     "height": 1000
    },
    "id": "pHaE14ev1FHP",
    "outputId": "60e297bb-8e1b-446b-f975-10f72feb78d2",
    "tags": [],
    "vscode": {
     "languageId": "r"
    }
   },
   "outputs": [
    {
     "data": {
      "text/html": [
       "<table class=\"dataframe\">\n",
       "<caption>A data.frame: 7 × 9</caption>\n",
       "<thead>\n",
       "\t<tr><th></th><th scope=col>variable</th><th scope=col>q_zeros</th><th scope=col>p_zeros</th><th scope=col>q_na</th><th scope=col>p_na</th><th scope=col>q_inf</th><th scope=col>p_inf</th><th scope=col>type</th><th scope=col>unique</th></tr>\n",
       "\t<tr><th></th><th scope=col>&lt;chr&gt;</th><th scope=col>&lt;int&gt;</th><th scope=col>&lt;dbl&gt;</th><th scope=col>&lt;int&gt;</th><th scope=col>&lt;dbl&gt;</th><th scope=col>&lt;int&gt;</th><th scope=col>&lt;dbl&gt;</th><th scope=col>&lt;chr&gt;</th><th scope=col>&lt;int&gt;</th></tr>\n",
       "</thead>\n",
       "<tbody>\n",
       "\t<tr><th scope=row>SEXO</th><td>SEXO                       </td><td>   0</td><td>0.000000000</td><td>    0</td><td>0.0000000</td><td>0</td><td>0</td><td>numeric</td><td>  2</td></tr>\n",
       "\t<tr><th scope=row>EDAD</th><td>EDAD                       </td><td> 710</td><td>0.014597640</td><td>    0</td><td>0.0000000</td><td>0</td><td>0</td><td>numeric</td><td> 98</td></tr>\n",
       "\t<tr><th scope=row>NIVEL DE ESTUDIOS APROBADOS</th><td>NIVEL DE ESTUDIOS APROBADOS</td><td>5685</td><td>0.116883918</td><td> 7457</td><td>0.1533163</td><td>0</td><td>0</td><td>numeric</td><td>  8</td></tr>\n",
       "\t<tr><th scope=row>OCUPACIÓN A DOS DÍGITOS</th><td>OCUPACIÓN A DOS DÍGITOS    </td><td>  18</td><td>0.000370081</td><td>27863</td><td>0.5728648</td><td>0</td><td>0</td><td>numeric</td><td> 41</td></tr>\n",
       "\t<tr><th scope=row>TAMAÑO EMPRESA</th><td>TAMAÑO EMPRESA             </td><td>   0</td><td>0.000000000</td><td>27863</td><td>0.5728648</td><td>0</td><td>0</td><td>numeric</td><td>182</td></tr>\n",
       "\t<tr><th scope=row>SUELDO O SALARIOS</th><td>SUELDO O SALARIOS          </td><td>   0</td><td>0.000000000</td><td>36175</td><td>0.7437600</td><td>0</td><td>0</td><td>numeric</td><td>393</td></tr>\n",
       "\t<tr><th scope=row>TIEMPO DE TRABAJO</th><td>TIEMPO DE TRABAJO          </td><td>1884</td><td>0.038735145</td><td>27863</td><td>0.5728648</td><td>0</td><td>0</td><td>numeric</td><td> 72</td></tr>\n",
       "</tbody>\n",
       "</table>\n"
      ],
      "text/latex": [
       "A data.frame: 7 × 9\n",
       "\\begin{tabular}{r|lllllllll}\n",
       "  & variable & q\\_zeros & p\\_zeros & q\\_na & p\\_na & q\\_inf & p\\_inf & type & unique\\\\\n",
       "  & <chr> & <int> & <dbl> & <int> & <dbl> & <int> & <dbl> & <chr> & <int>\\\\\n",
       "\\hline\n",
       "\tSEXO & SEXO                        &    0 & 0.000000000 &     0 & 0.0000000 & 0 & 0 & numeric &   2\\\\\n",
       "\tEDAD & EDAD                        &  710 & 0.014597640 &     0 & 0.0000000 & 0 & 0 & numeric &  98\\\\\n",
       "\tNIVEL DE ESTUDIOS APROBADOS & NIVEL DE ESTUDIOS APROBADOS & 5685 & 0.116883918 &  7457 & 0.1533163 & 0 & 0 & numeric &   8\\\\\n",
       "\tOCUPACIÓN A DOS DÍGITOS & OCUPACIÓN A DOS DÍGITOS     &   18 & 0.000370081 & 27863 & 0.5728648 & 0 & 0 & numeric &  41\\\\\n",
       "\tTAMAÑO EMPRESA & TAMAÑO EMPRESA              &    0 & 0.000000000 & 27863 & 0.5728648 & 0 & 0 & numeric & 182\\\\\n",
       "\tSUELDO O SALARIOS & SUELDO O SALARIOS           &    0 & 0.000000000 & 36175 & 0.7437600 & 0 & 0 & numeric & 393\\\\\n",
       "\tTIEMPO DE TRABAJO & TIEMPO DE TRABAJO           & 1884 & 0.038735145 & 27863 & 0.5728648 & 0 & 0 & numeric &  72\\\\\n",
       "\\end{tabular}\n"
      ],
      "text/markdown": [
       "\n",
       "A data.frame: 7 × 9\n",
       "\n",
       "| <!--/--> | variable &lt;chr&gt; | q_zeros &lt;int&gt; | p_zeros &lt;dbl&gt; | q_na &lt;int&gt; | p_na &lt;dbl&gt; | q_inf &lt;int&gt; | p_inf &lt;dbl&gt; | type &lt;chr&gt; | unique &lt;int&gt; |\n",
       "|---|---|---|---|---|---|---|---|---|---|\n",
       "| SEXO | SEXO                        |    0 | 0.000000000 |     0 | 0.0000000 | 0 | 0 | numeric |   2 |\n",
       "| EDAD | EDAD                        |  710 | 0.014597640 |     0 | 0.0000000 | 0 | 0 | numeric |  98 |\n",
       "| NIVEL DE ESTUDIOS APROBADOS | NIVEL DE ESTUDIOS APROBADOS | 5685 | 0.116883918 |  7457 | 0.1533163 | 0 | 0 | numeric |   8 |\n",
       "| OCUPACIÓN A DOS DÍGITOS | OCUPACIÓN A DOS DÍGITOS     |   18 | 0.000370081 | 27863 | 0.5728648 | 0 | 0 | numeric |  41 |\n",
       "| TAMAÑO EMPRESA | TAMAÑO EMPRESA              |    0 | 0.000000000 | 27863 | 0.5728648 | 0 | 0 | numeric | 182 |\n",
       "| SUELDO O SALARIOS | SUELDO O SALARIOS           |    0 | 0.000000000 | 36175 | 0.7437600 | 0 | 0 | numeric | 393 |\n",
       "| TIEMPO DE TRABAJO | TIEMPO DE TRABAJO           | 1884 | 0.038735145 | 27863 | 0.5728648 | 0 | 0 | numeric |  72 |\n",
       "\n"
      ],
      "text/plain": [
       "                            variable                    q_zeros p_zeros    \n",
       "SEXO                        SEXO                           0    0.000000000\n",
       "EDAD                        EDAD                         710    0.014597640\n",
       "NIVEL DE ESTUDIOS APROBADOS NIVEL DE ESTUDIOS APROBADOS 5685    0.116883918\n",
       "OCUPACIÓN A DOS DÍGITOS     OCUPACIÓN A DOS DÍGITOS       18    0.000370081\n",
       "TAMAÑO EMPRESA              TAMAÑO EMPRESA                 0    0.000000000\n",
       "SUELDO O SALARIOS           SUELDO O SALARIOS              0    0.000000000\n",
       "TIEMPO DE TRABAJO           TIEMPO DE TRABAJO           1884    0.038735145\n",
       "                            q_na  p_na      q_inf p_inf type    unique\n",
       "SEXO                            0 0.0000000 0     0     numeric   2   \n",
       "EDAD                            0 0.0000000 0     0     numeric  98   \n",
       "NIVEL DE ESTUDIOS APROBADOS  7457 0.1533163 0     0     numeric   8   \n",
       "OCUPACIÓN A DOS DÍGITOS     27863 0.5728648 0     0     numeric  41   \n",
       "TAMAÑO EMPRESA              27863 0.5728648 0     0     numeric 182   \n",
       "SUELDO O SALARIOS           36175 0.7437600 0     0     numeric 393   \n",
       "TIEMPO DE TRABAJO           27863 0.5728648 0     0     numeric  72   "
      ]
     },
     "metadata": {},
     "output_type": "display_data"
    }
   ],
   "source": [
    "status(base)\n",
    "#q_zeros: Cantidad de ceros\n",
    "#p_zeros: Porcentaje de ceros\n",
    "#q_na: cantidad de NA\n",
    "#p_na: porcentaje de NA\n",
    "#tipo: tipo de dato, factor o numeric\n",
    "#unique: Cantidad de valores unicos, util para clasificar datos."
   ]
  },
  {
   "cell_type": "code",
   "execution_count": 11,
   "metadata": {
    "colab": {
     "base_uri": "https://localhost:8080/",
     "height": 1000
    },
    "id": "ovxIYerU2ngY",
    "outputId": "c2a68eaf-e9b1-4b07-ce9d-4a78b3ba5e50",
    "tags": [],
    "vscode": {
     "languageId": "r"
    }
   },
   "outputs": [
    {
     "data": {
      "text/html": [
       "<table class=\"dataframe\">\n",
       "<caption>A data.frame: 7 × 3</caption>\n",
       "<thead>\n",
       "\t<tr><th></th><th scope=col>variable</th><th scope=col>q_zeros</th><th scope=col>p_zeros</th></tr>\n",
       "\t<tr><th></th><th scope=col>&lt;chr&gt;</th><th scope=col>&lt;int&gt;</th><th scope=col>&lt;dbl&gt;</th></tr>\n",
       "</thead>\n",
       "<tbody>\n",
       "\t<tr><th scope=row>NIVEL DE ESTUDIOS APROBADOS</th><td>NIVEL DE ESTUDIOS APROBADOS</td><td>5685</td><td>0.116883918</td></tr>\n",
       "\t<tr><th scope=row>TIEMPO DE TRABAJO</th><td>TIEMPO DE TRABAJO          </td><td>1884</td><td>0.038735145</td></tr>\n",
       "\t<tr><th scope=row>EDAD</th><td>EDAD                       </td><td> 710</td><td>0.014597640</td></tr>\n",
       "\t<tr><th scope=row>OCUPACIÓN A DOS DÍGITOS</th><td>OCUPACIÓN A DOS DÍGITOS    </td><td>  18</td><td>0.000370081</td></tr>\n",
       "\t<tr><th scope=row>SEXO</th><td>SEXO                       </td><td>   0</td><td>0.000000000</td></tr>\n",
       "\t<tr><th scope=row>TAMAÑO EMPRESA</th><td>TAMAÑO EMPRESA             </td><td>   0</td><td>0.000000000</td></tr>\n",
       "\t<tr><th scope=row>SUELDO O SALARIOS</th><td>SUELDO O SALARIOS          </td><td>   0</td><td>0.000000000</td></tr>\n",
       "</tbody>\n",
       "</table>\n"
      ],
      "text/latex": [
       "A data.frame: 7 × 3\n",
       "\\begin{tabular}{r|lll}\n",
       "  & variable & q\\_zeros & p\\_zeros\\\\\n",
       "  & <chr> & <int> & <dbl>\\\\\n",
       "\\hline\n",
       "\tNIVEL DE ESTUDIOS APROBADOS & NIVEL DE ESTUDIOS APROBADOS & 5685 & 0.116883918\\\\\n",
       "\tTIEMPO DE TRABAJO & TIEMPO DE TRABAJO           & 1884 & 0.038735145\\\\\n",
       "\tEDAD & EDAD                        &  710 & 0.014597640\\\\\n",
       "\tOCUPACIÓN A DOS DÍGITOS & OCUPACIÓN A DOS DÍGITOS     &   18 & 0.000370081\\\\\n",
       "\tSEXO & SEXO                        &    0 & 0.000000000\\\\\n",
       "\tTAMAÑO EMPRESA & TAMAÑO EMPRESA              &    0 & 0.000000000\\\\\n",
       "\tSUELDO O SALARIOS & SUELDO O SALARIOS           &    0 & 0.000000000\\\\\n",
       "\\end{tabular}\n"
      ],
      "text/markdown": [
       "\n",
       "A data.frame: 7 × 3\n",
       "\n",
       "| <!--/--> | variable &lt;chr&gt; | q_zeros &lt;int&gt; | p_zeros &lt;dbl&gt; |\n",
       "|---|---|---|---|\n",
       "| NIVEL DE ESTUDIOS APROBADOS | NIVEL DE ESTUDIOS APROBADOS | 5685 | 0.116883918 |\n",
       "| TIEMPO DE TRABAJO | TIEMPO DE TRABAJO           | 1884 | 0.038735145 |\n",
       "| EDAD | EDAD                        |  710 | 0.014597640 |\n",
       "| OCUPACIÓN A DOS DÍGITOS | OCUPACIÓN A DOS DÍGITOS     |   18 | 0.000370081 |\n",
       "| SEXO | SEXO                        |    0 | 0.000000000 |\n",
       "| TAMAÑO EMPRESA | TAMAÑO EMPRESA              |    0 | 0.000000000 |\n",
       "| SUELDO O SALARIOS | SUELDO O SALARIOS           |    0 | 0.000000000 |\n",
       "\n"
      ],
      "text/plain": [
       "                            variable                    q_zeros p_zeros    \n",
       "NIVEL DE ESTUDIOS APROBADOS NIVEL DE ESTUDIOS APROBADOS 5685    0.116883918\n",
       "TIEMPO DE TRABAJO           TIEMPO DE TRABAJO           1884    0.038735145\n",
       "EDAD                        EDAD                         710    0.014597640\n",
       "OCUPACIÓN A DOS DÍGITOS     OCUPACIÓN A DOS DÍGITOS       18    0.000370081\n",
       "SEXO                        SEXO                           0    0.000000000\n",
       "TAMAÑO EMPRESA              TAMAÑO EMPRESA                 0    0.000000000\n",
       "SUELDO O SALARIOS           SUELDO O SALARIOS              0    0.000000000"
      ]
     },
     "metadata": {},
     "output_type": "display_data"
    }
   ],
   "source": [
    "#Ordenar los datos según la cantidad de ceros\n",
    "base_status <- status(base)\n",
    "arrange(base_status, -p_zeros) %>%\n",
    "  select(variable, q_zeros, p_zeros)"
   ]
  },
  {
   "cell_type": "markdown",
   "metadata": {
    "id": "feY71HQvlLuP"
   },
   "source": [
    "# Sección nueva"
   ]
  },
  {
   "cell_type": "code",
   "execution_count": 12,
   "metadata": {
    "colab": {
     "base_uri": "https://localhost:8080/",
     "height": 1000
    },
    "id": "ZrgldvTtLJit",
    "outputId": "3358a76d-8f52-4798-cb95-96ca82e01644",
    "tags": [],
    "vscode": {
     "languageId": "r"
    }
   },
   "outputs": [
    {
     "data": {
      "text/html": [
       "<table class=\"dataframe\">\n",
       "<caption>A matrix: 7 × 7 of type dbl</caption>\n",
       "<thead>\n",
       "\t<tr><th></th><th scope=col>SEXO</th><th scope=col>EDAD</th><th scope=col>NIVEL DE ESTUDIOS APROBADOS</th><th scope=col>OCUPACIÓN A DOS DÍGITOS</th><th scope=col>TAMAÑO EMPRESA</th><th scope=col>SUELDO O SALARIOS</th><th scope=col>TIEMPO DE TRABAJO</th></tr>\n",
       "</thead>\n",
       "<tbody>\n",
       "\t<tr><th scope=row>SEXO</th><td>1.00</td><td>0.04</td><td>NA</td><td>NA</td><td>NA</td><td>NA</td><td>NA</td></tr>\n",
       "\t<tr><th scope=row>EDAD</th><td>0.04</td><td>1.00</td><td>NA</td><td>NA</td><td>NA</td><td>NA</td><td>NA</td></tr>\n",
       "\t<tr><th scope=row>NIVEL DE ESTUDIOS APROBADOS</th><td>  NA</td><td>  NA</td><td> 1</td><td>NA</td><td>NA</td><td>NA</td><td>NA</td></tr>\n",
       "\t<tr><th scope=row>OCUPACIÓN A DOS DÍGITOS</th><td>  NA</td><td>  NA</td><td>NA</td><td> 1</td><td>NA</td><td>NA</td><td>NA</td></tr>\n",
       "\t<tr><th scope=row>TAMAÑO EMPRESA</th><td>  NA</td><td>  NA</td><td>NA</td><td>NA</td><td> 1</td><td>NA</td><td>NA</td></tr>\n",
       "\t<tr><th scope=row>SUELDO O SALARIOS</th><td>  NA</td><td>  NA</td><td>NA</td><td>NA</td><td>NA</td><td> 1</td><td>NA</td></tr>\n",
       "\t<tr><th scope=row>TIEMPO DE TRABAJO</th><td>  NA</td><td>  NA</td><td>NA</td><td>NA</td><td>NA</td><td>NA</td><td> 1</td></tr>\n",
       "</tbody>\n",
       "</table>\n"
      ],
      "text/latex": [
       "A matrix: 7 × 7 of type dbl\n",
       "\\begin{tabular}{r|lllllll}\n",
       "  & SEXO & EDAD & NIVEL DE ESTUDIOS APROBADOS & OCUPACIÓN A DOS DÍGITOS & TAMAÑO EMPRESA & SUELDO O SALARIOS & TIEMPO DE TRABAJO\\\\\n",
       "\\hline\n",
       "\tSEXO & 1.00 & 0.04 & NA & NA & NA & NA & NA\\\\\n",
       "\tEDAD & 0.04 & 1.00 & NA & NA & NA & NA & NA\\\\\n",
       "\tNIVEL DE ESTUDIOS APROBADOS &   NA &   NA &  1 & NA & NA & NA & NA\\\\\n",
       "\tOCUPACIÓN A DOS DÍGITOS &   NA &   NA & NA &  1 & NA & NA & NA\\\\\n",
       "\tTAMAÑO EMPRESA &   NA &   NA & NA & NA &  1 & NA & NA\\\\\n",
       "\tSUELDO O SALARIOS &   NA &   NA & NA & NA & NA &  1 & NA\\\\\n",
       "\tTIEMPO DE TRABAJO &   NA &   NA & NA & NA & NA & NA &  1\\\\\n",
       "\\end{tabular}\n"
      ],
      "text/markdown": [
       "\n",
       "A matrix: 7 × 7 of type dbl\n",
       "\n",
       "| <!--/--> | SEXO | EDAD | NIVEL DE ESTUDIOS APROBADOS | OCUPACIÓN A DOS DÍGITOS | TAMAÑO EMPRESA | SUELDO O SALARIOS | TIEMPO DE TRABAJO |\n",
       "|---|---|---|---|---|---|---|---|\n",
       "| SEXO | 1.00 | 0.04 | NA | NA | NA | NA | NA |\n",
       "| EDAD | 0.04 | 1.00 | NA | NA | NA | NA | NA |\n",
       "| NIVEL DE ESTUDIOS APROBADOS |   NA |   NA |  1 | NA | NA | NA | NA |\n",
       "| OCUPACIÓN A DOS DÍGITOS |   NA |   NA | NA |  1 | NA | NA | NA |\n",
       "| TAMAÑO EMPRESA |   NA |   NA | NA | NA |  1 | NA | NA |\n",
       "| SUELDO O SALARIOS |   NA |   NA | NA | NA | NA |  1 | NA |\n",
       "| TIEMPO DE TRABAJO |   NA |   NA | NA | NA | NA | NA |  1 |\n",
       "\n"
      ],
      "text/plain": [
       "                            SEXO EDAD NIVEL DE ESTUDIOS APROBADOS\n",
       "SEXO                        1.00 0.04 NA                         \n",
       "EDAD                        0.04 1.00 NA                         \n",
       "NIVEL DE ESTUDIOS APROBADOS   NA   NA  1                         \n",
       "OCUPACIÓN A DOS DÍGITOS       NA   NA NA                         \n",
       "TAMAÑO EMPRESA                NA   NA NA                         \n",
       "SUELDO O SALARIOS             NA   NA NA                         \n",
       "TIEMPO DE TRABAJO             NA   NA NA                         \n",
       "                            OCUPACIÓN A DOS DÍGITOS TAMAÑO EMPRESA\n",
       "SEXO                        NA                      NA            \n",
       "EDAD                        NA                      NA            \n",
       "NIVEL DE ESTUDIOS APROBADOS NA                      NA            \n",
       "OCUPACIÓN A DOS DÍGITOS      1                      NA            \n",
       "TAMAÑO EMPRESA              NA                       1            \n",
       "SUELDO O SALARIOS           NA                      NA            \n",
       "TIEMPO DE TRABAJO           NA                      NA            \n",
       "                            SUELDO O SALARIOS TIEMPO DE TRABAJO\n",
       "SEXO                        NA                NA               \n",
       "EDAD                        NA                NA               \n",
       "NIVEL DE ESTUDIOS APROBADOS NA                NA               \n",
       "OCUPACIÓN A DOS DÍGITOS     NA                NA               \n",
       "TAMAÑO EMPRESA              NA                NA               \n",
       "SUELDO O SALARIOS            1                NA               \n",
       "TIEMPO DE TRABAJO           NA                 1               "
      ]
     },
     "metadata": {},
     "output_type": "display_data"
    }
   ],
   "source": [
    "# Matriz de correlación\n",
    "\n",
    "round(cor(base), 2)"
   ]
  },
  {
   "cell_type": "code",
   "execution_count": 13,
   "metadata": {
    "colab": {
     "base_uri": "https://localhost:8080/",
     "height": 1000
    },
    "id": "dbZdSfnP3J1q",
    "outputId": "4204aac4-8a17-4ed4-82db-d3599a5b566c",
    "tags": [],
    "vscode": {
     "languageId": "r"
    }
   },
   "outputs": [
    {
     "data": {
      "text/html": [
       "<table class=\"dataframe\">\n",
       "<caption>A data.frame: 7 × 3</caption>\n",
       "<thead>\n",
       "\t<tr><th></th><th scope=col>variable</th><th scope=col>q_na</th><th scope=col>p_na</th></tr>\n",
       "\t<tr><th></th><th scope=col>&lt;chr&gt;</th><th scope=col>&lt;int&gt;</th><th scope=col>&lt;dbl&gt;</th></tr>\n",
       "</thead>\n",
       "<tbody>\n",
       "\t<tr><th scope=row>SUELDO O SALARIOS</th><td>SUELDO O SALARIOS          </td><td>36175</td><td>0.7437600</td></tr>\n",
       "\t<tr><th scope=row>OCUPACIÓN A DOS DÍGITOS</th><td>OCUPACIÓN A DOS DÍGITOS    </td><td>27863</td><td>0.5728648</td></tr>\n",
       "\t<tr><th scope=row>TAMAÑO EMPRESA</th><td>TAMAÑO EMPRESA             </td><td>27863</td><td>0.5728648</td></tr>\n",
       "\t<tr><th scope=row>TIEMPO DE TRABAJO</th><td>TIEMPO DE TRABAJO          </td><td>27863</td><td>0.5728648</td></tr>\n",
       "\t<tr><th scope=row>NIVEL DE ESTUDIOS APROBADOS</th><td>NIVEL DE ESTUDIOS APROBADOS</td><td> 7457</td><td>0.1533163</td></tr>\n",
       "\t<tr><th scope=row>SEXO</th><td>SEXO                       </td><td>    0</td><td>0.0000000</td></tr>\n",
       "\t<tr><th scope=row>EDAD</th><td>EDAD                       </td><td>    0</td><td>0.0000000</td></tr>\n",
       "</tbody>\n",
       "</table>\n"
      ],
      "text/latex": [
       "A data.frame: 7 × 3\n",
       "\\begin{tabular}{r|lll}\n",
       "  & variable & q\\_na & p\\_na\\\\\n",
       "  & <chr> & <int> & <dbl>\\\\\n",
       "\\hline\n",
       "\tSUELDO O SALARIOS & SUELDO O SALARIOS           & 36175 & 0.7437600\\\\\n",
       "\tOCUPACIÓN A DOS DÍGITOS & OCUPACIÓN A DOS DÍGITOS     & 27863 & 0.5728648\\\\\n",
       "\tTAMAÑO EMPRESA & TAMAÑO EMPRESA              & 27863 & 0.5728648\\\\\n",
       "\tTIEMPO DE TRABAJO & TIEMPO DE TRABAJO           & 27863 & 0.5728648\\\\\n",
       "\tNIVEL DE ESTUDIOS APROBADOS & NIVEL DE ESTUDIOS APROBADOS &  7457 & 0.1533163\\\\\n",
       "\tSEXO & SEXO                        &     0 & 0.0000000\\\\\n",
       "\tEDAD & EDAD                        &     0 & 0.0000000\\\\\n",
       "\\end{tabular}\n"
      ],
      "text/markdown": [
       "\n",
       "A data.frame: 7 × 3\n",
       "\n",
       "| <!--/--> | variable &lt;chr&gt; | q_na &lt;int&gt; | p_na &lt;dbl&gt; |\n",
       "|---|---|---|---|\n",
       "| SUELDO O SALARIOS | SUELDO O SALARIOS           | 36175 | 0.7437600 |\n",
       "| OCUPACIÓN A DOS DÍGITOS | OCUPACIÓN A DOS DÍGITOS     | 27863 | 0.5728648 |\n",
       "| TAMAÑO EMPRESA | TAMAÑO EMPRESA              | 27863 | 0.5728648 |\n",
       "| TIEMPO DE TRABAJO | TIEMPO DE TRABAJO           | 27863 | 0.5728648 |\n",
       "| NIVEL DE ESTUDIOS APROBADOS | NIVEL DE ESTUDIOS APROBADOS |  7457 | 0.1533163 |\n",
       "| SEXO | SEXO                        |     0 | 0.0000000 |\n",
       "| EDAD | EDAD                        |     0 | 0.0000000 |\n",
       "\n"
      ],
      "text/plain": [
       "                            variable                    q_na  p_na     \n",
       "SUELDO O SALARIOS           SUELDO O SALARIOS           36175 0.7437600\n",
       "OCUPACIÓN A DOS DÍGITOS     OCUPACIÓN A DOS DÍGITOS     27863 0.5728648\n",
       "TAMAÑO EMPRESA              TAMAÑO EMPRESA              27863 0.5728648\n",
       "TIEMPO DE TRABAJO           TIEMPO DE TRABAJO           27863 0.5728648\n",
       "NIVEL DE ESTUDIOS APROBADOS NIVEL DE ESTUDIOS APROBADOS  7457 0.1533163\n",
       "SEXO                        SEXO                            0 0.0000000\n",
       "EDAD                        EDAD                            0 0.0000000"
      ]
     },
     "metadata": {},
     "output_type": "display_data"
    }
   ],
   "source": [
    "#Ordenar los datos según la cantidad de NA\n",
    "base_status <- status(base)\n",
    "arrange(base_status, -p_na) %>%\n",
    "  select(variable, q_na, p_na)"
   ]
  },
  {
   "cell_type": "code",
   "execution_count": 14,
   "metadata": {
    "colab": {
     "base_uri": "https://localhost:8080/",
     "height": 1000
    },
    "id": "AByKVRYW3q_5",
    "outputId": "4050d498-a96d-498c-c056-91770c4e8126",
    "tags": [],
    "vscode": {
     "languageId": "r"
    }
   },
   "outputs": [
    {
     "data": {
      "text/plain": [
       "$vars_num_with_NA\n",
       "                                               variable  q_na      p_na\n",
       "NIVEL DE ESTUDIOS APROBADOS NIVEL DE ESTUDIOS APROBADOS  7457 0.1533163\n",
       "OCUPACIÓN A DOS DÍGITOS         OCUPACIÓN A DOS DÍGITOS 27863 0.5728648\n",
       "TAMAÑO EMPRESA                           TAMAÑO EMPRESA 27863 0.5728648\n",
       "SUELDO O SALARIOS                     SUELDO O SALARIOS 36175 0.7437600\n",
       "TIEMPO DE TRABAJO                     TIEMPO DE TRABAJO 27863 0.5728648\n",
       "\n",
       "$vars_cat_with_NA\n",
       "[1] variable q_na     p_na    \n",
       "<0 rows> (or 0-length row.names)\n",
       "\n",
       "$vars_cat_high_card\n",
       "[1] variable unique  \n",
       "<0 rows> (or 0-length row.names)\n",
       "\n",
       "$MAX_UNIQUE\n",
       "[1] 35\n",
       "\n",
       "$vars_one_value\n",
       "character(0)\n",
       "\n",
       "$vars_cat\n",
       "character(0)\n",
       "\n",
       "$vars_num\n",
       "[1] \"SEXO\"                        \"EDAD\"                       \n",
       "[3] \"NIVEL DE ESTUDIOS APROBADOS\" \"OCUPACIÓN A DOS DÍGITOS\"    \n",
       "[5] \"TAMAÑO EMPRESA\"              \"SUELDO O SALARIOS\"          \n",
       "[7] \"TIEMPO DE TRABAJO\"          \n",
       "\n",
       "$vars_char\n",
       "character(0)\n",
       "\n",
       "$vars_factor\n",
       "character(0)\n",
       "\n",
       "$vars_other\n",
       "character(0)\n"
      ]
     },
     "metadata": {},
     "output_type": "display_data"
    }
   ],
   "source": [
    "#Viendo la integridad de los datos\n",
    "data_integrity(base)"
   ]
  },
  {
   "cell_type": "code",
   "execution_count": 15,
   "metadata": {
    "colab": {
     "base_uri": "https://localhost:8080/",
     "height": 173
    },
    "id": "dRDYJNtg4Ga5",
    "outputId": "427987ca-35aa-4df1-eef0-eb18097a7970",
    "tags": [],
    "vscode": {
     "languageId": "r"
    }
   },
   "outputs": [
    {
     "data": {
      "text/html": [
       "'Edad'"
      ],
      "text/latex": [
       "'Edad'"
      ],
      "text/markdown": [
       "'Edad'"
      ],
      "text/plain": [
       "[1] \"Edad\""
      ]
     },
     "metadata": {},
     "output_type": "display_data"
    },
    {
     "data": {
      "text/plain": [
       "   Min. 1st Qu.  Median    Mean 3rd Qu.    Max. \n",
       "   0.00   12.00   25.00   29.19   43.00   97.00 "
      ]
     },
     "metadata": {},
     "output_type": "display_data"
    },
    {
     "data": {
      "text/html": [
       "'Sueldo o Salario'"
      ],
      "text/latex": [
       "'Sueldo o Salario'"
      ],
      "text/markdown": [
       "'Sueldo o Salario'"
      ],
      "text/plain": [
       "[1] \"Sueldo o Salario\""
      ]
     },
     "metadata": {},
     "output_type": "display_data"
    },
    {
     "name": "stderr",
     "output_type": "stream",
     "text": [
      "Warning message:\n",
      "“Unknown or uninitialised column: `SUELDO O SALARIO`.”\n"
     ]
    },
    {
     "data": {
      "text/plain": [
       "Length  Class   Mode \n",
       "     0   NULL   NULL "
      ]
     },
     "metadata": {},
     "output_type": "display_data"
    },
    {
     "data": {
      "text/html": [
       "'Sueldo o Salarios'"
      ],
      "text/latex": [
       "'Sueldo o Salarios'"
      ],
      "text/markdown": [
       "'Sueldo o Salarios'"
      ],
      "text/plain": [
       "[1] \"Sueldo o Salarios\""
      ]
     },
     "metadata": {},
     "output_type": "display_data"
    },
    {
     "data": {
      "text/plain": [
       "   Min. 1st Qu.  Median    Mean 3rd Qu.    Max.    NA's \n",
       "     50    1200    2400    2665    3200   35000   36175 "
      ]
     },
     "metadata": {},
     "output_type": "display_data"
    }
   ],
   "source": [
    "#Ver estadísticas descriptivas\n",
    "\"Edad\"\n",
    "summary(base$EDAD)\n",
    "\"Sueldo o Salario\"\n",
    "summary(base$`SUELDO O SALARIO`)\n",
    "\"Sueldo o Salarios\"\n",
    "summary(base$`SUELDO O SALARIOS`)"
   ]
  },
  {
   "cell_type": "code",
   "execution_count": 16,
   "metadata": {
    "id": "4Ajqj9yz_GP0",
    "tags": [],
    "vscode": {
     "languageId": "r"
    }
   },
   "outputs": [
    {
     "ename": "ERROR",
     "evalue": "\u001b[1m\u001b[33mError\u001b[39m in `drop_na()`:\u001b[22m\n\u001b[33m!\u001b[39m Can't subset columns that don't exist.\n\u001b[31m✖\u001b[39m Column `SUELDO O SALARIO` doesn't exist.\n",
     "output_type": "error",
     "traceback": [
      "\u001b[1m\u001b[33mError\u001b[39m in `drop_na()`:\u001b[22m\n\u001b[33m!\u001b[39m Can't subset columns that don't exist.\n\u001b[31m✖\u001b[39m Column `SUELDO O SALARIO` doesn't exist.\nTraceback:\n",
      "1. base %>% drop_na(`SUELDO O SALARIO`)",
      "2. drop_na(., `SUELDO O SALARIO`)",
      "3. drop_na.data.frame(., `SUELDO O SALARIO`)",
      "4. tidyselect::eval_select(expr(c(!!!dots)), data, allow_rename = FALSE)",
      "5. eval_select_impl(data, names(data), as_quosure(expr, env), include = include, \n .     exclude = exclude, strict = strict, name_spec = name_spec, \n .     allow_rename = allow_rename, allow_empty = allow_empty, allow_predicates = allow_predicates, \n .     error_call = error_call, )",
      "6. with_subscript_errors(out <- vars_select_eval(vars, expr, strict = strict, \n .     data = x, name_spec = name_spec, uniquely_named = uniquely_named, \n .     allow_rename = allow_rename, allow_empty = allow_empty, allow_predicates = allow_predicates, \n .     type = type, error_call = error_call), type = type)",
      "7. try_fetch(expr, vctrs_error_subscript = function(cnd) {\n .     cnd$subscript_action <- subscript_action(type)\n .     cnd$subscript_elt <- \"column\"\n .     cnd_signal(cnd)\n . })",
      "8. withCallingHandlers(expr, condition = function(cnd) {\n .     {\n .         .__handler_frame__. <- TRUE\n .         .__setup_frame__. <- frame\n .         if (inherits(cnd, \"message\")) {\n .             except <- c(\"warning\", \"error\")\n .         }\n .         else if (inherits(cnd, \"warning\")) {\n .             except <- \"error\"\n .         }\n .         else {\n .             except <- \"\"\n .         }\n .     }\n .     while (!is_null(cnd)) {\n .         if (inherits(cnd, \"vctrs_error_subscript\")) {\n .             out <- handlers[[1L]](cnd)\n .             if (!inherits(out, \"rlang_zap\")) \n .                 throw(out)\n .         }\n .         inherit <- .subset2(.subset2(cnd, \"rlang\"), \"inherit\")\n .         if (is_false(inherit)) {\n .             return()\n .         }\n .         cnd <- .subset2(cnd, \"parent\")\n .     }\n . })",
      "9. vars_select_eval(vars, expr, strict = strict, data = x, name_spec = name_spec, \n .     uniquely_named = uniquely_named, allow_rename = allow_rename, \n .     allow_empty = allow_empty, allow_predicates = allow_predicates, \n .     type = type, error_call = error_call)",
      "10. walk_data_tree(expr, data_mask, context_mask)",
      "11. eval_c(expr, data_mask, context_mask)",
      "12. reduce_sels(node, data_mask, context_mask, init = init)",
      "13. walk_data_tree(new, data_mask, context_mask)",
      "14. as_indices_sel_impl(out, vars = vars, strict = strict, data = data, \n  .     allow_predicates = allow_predicates, call = error_call, arg = as_label(expr))",
      "15. as_indices_impl(x, vars, call = call, arg = arg, strict = strict)",
      "16. chr_as_locations(x, vars, call = call, arg = arg)",
      "17. vctrs::vec_as_location(x, n = length(vars), names = vars, call = call, \n  .     arg = arg)",
      "18. (function () \n  . stop_subscript_oob(i = i, subscript_type = subscript_type, names = names, \n  .     subscript_action = subscript_action, subscript_arg = subscript_arg, \n  .     call = call))()",
      "19. stop_subscript_oob(i = i, subscript_type = subscript_type, names = names, \n  .     subscript_action = subscript_action, subscript_arg = subscript_arg, \n  .     call = call)",
      "20. stop_subscript(class = \"vctrs_error_subscript_oob\", i = i, subscript_type = subscript_type, \n  .     ..., call = call)",
      "21. abort(class = c(class, \"vctrs_error_subscript\"), i = i, ..., \n  .     call = call)",
      "22. signal_abort(cnd, .file)",
      "23. signalCondition(cnd)",
      "24. (function (cnd) \n  . {\n  .     {\n  .         .__handler_frame__. <- TRUE\n  .         .__setup_frame__. <- frame\n  .         if (inherits(cnd, \"message\")) {\n  .             except <- c(\"warning\", \"error\")\n  .         }\n  .         else if (inherits(cnd, \"warning\")) {\n  .             except <- \"error\"\n  .         }\n  .         else {\n  .             except <- \"\"\n  .         }\n  .     }\n  .     while (!is_null(cnd)) {\n  .         if (inherits(cnd, \"vctrs_error_subscript\")) {\n  .             out <- handlers[[1L]](cnd)\n  .             if (!inherits(out, \"rlang_zap\")) \n  .                 throw(out)\n  .         }\n  .         inherit <- .subset2(.subset2(cnd, \"rlang\"), \"inherit\")\n  .         if (is_false(inherit)) {\n  .             return()\n  .         }\n  .         cnd <- .subset2(cnd, \"parent\")\n  .     }\n  . })(structure(list(message = \"\", trace = structure(list(call = list(\n  .     IRkernel::main(), kernel$run(), handle_shell(), executor$execute(msg), \n  .     tryCatch(evaluate(request$content$code, envir = .GlobalEnv, \n  .         output_handler = oh, stop_on_error = 1L), interrupt = function(cond) {\n  .         log_debug(\"Interrupt during execution\")\n  .         interrupted <<- TRUE\n  .     }, error = .self$handle_error), tryCatchList(expr, classes, \n  .         parentenv, handlers), tryCatchOne(tryCatchList(expr, \n  .         names[-nh], parentenv, handlers[-nh]), names[nh], parentenv, \n  .         handlers[[nh]]), doTryCatch(return(expr), name, parentenv, \n  .         handler), tryCatchList(expr, names[-nh], parentenv, handlers[-nh]), \n  .     tryCatchOne(expr, names, parentenv, handlers[[1L]]), doTryCatch(return(expr), \n  .         name, parentenv, handler), evaluate(request$content$code, \n  .         envir = .GlobalEnv, output_handler = oh, stop_on_error = 1L), \n  .     evaluate_call(expr, parsed$src[[i]], envir = envir, enclos = enclos, \n  .         debug = debug, last = i == length(out), use_try = stop_on_error != \n  .             2L, keep_warning = keep_warning, keep_message = keep_message, \n  .         output_handler = output_handler, include_timing = include_timing), \n  .     timing_fn(handle(ev <- withCallingHandlers(withVisible(eval_with_user_handlers(expr, \n  .         envir, enclos, user_handlers)), warning = wHandler, error = eHandler, \n  .         message = mHandler))), handle(ev <- withCallingHandlers(withVisible(eval_with_user_handlers(expr, \n  .         envir, enclos, user_handlers)), warning = wHandler, error = eHandler, \n  .         message = mHandler)), try(f, silent = TRUE), tryCatch(expr, \n  .         error = function(e) {\n  .             call <- conditionCall(e)\n  .             if (!is.null(call)) {\n  .                 if (identical(call[[1L]], quote(doTryCatch))) \n  .                   call <- sys.call(-4L)\n  .                 dcall <- deparse(call, nlines = 1L)\n  .                 prefix <- paste(\"Error in\", dcall, \": \")\n  .                 LONG <- 75L\n  .                 sm <- strsplit(conditionMessage(e), \"\\n\")[[1L]]\n  .                 w <- 14L + nchar(dcall, type = \"w\") + nchar(sm[1L], \n  .                   type = \"w\")\n  .                 if (is.na(w)) \n  .                   w <- 14L + nchar(dcall, type = \"b\") + nchar(sm[1L], \n  .                     type = \"b\")\n  .                 if (w > LONG) \n  .                   prefix <- paste0(prefix, \"\\n  \")\n  .             }\n  .             else prefix <- \"Error : \"\n  .             msg <- paste0(prefix, conditionMessage(e), \"\\n\")\n  .             .Internal(seterrmessage(msg[1L]))\n  .             if (!silent && isTRUE(getOption(\"show.error.messages\"))) {\n  .                 cat(msg, file = outFile)\n  .                 .Internal(printDeferredWarnings())\n  .             }\n  .             invisible(structure(msg, class = \"try-error\", condition = e))\n  .         }), tryCatchList(expr, classes, parentenv, handlers), \n  .     tryCatchOne(expr, names, parentenv, handlers[[1L]]), doTryCatch(return(expr), \n  .         name, parentenv, handler), withCallingHandlers(withVisible(eval_with_user_handlers(expr, \n  .         envir, enclos, user_handlers)), warning = wHandler, error = eHandler, \n  .         message = mHandler), withVisible(eval_with_user_handlers(expr, \n  .         envir, enclos, user_handlers)), eval_with_user_handlers(expr, \n  .         envir, enclos, user_handlers), eval(expr, envir, enclos), \n  .     eval(expr, envir, enclos), base %>% drop_na(`SUELDO O SALARIO`), \n  .     drop_na(., `SUELDO O SALARIO`), drop_na.data.frame(., `SUELDO O SALARIO`), \n  .     tidyselect::eval_select(expr(c(!!!dots)), data, allow_rename = FALSE), \n  .     eval_select_impl(data, names(data), as_quosure(expr, env), \n  .         include = include, exclude = exclude, strict = strict, \n  .         name_spec = name_spec, allow_rename = allow_rename, allow_empty = allow_empty, \n  .         allow_predicates = allow_predicates, error_call = error_call, \n  .         ), with_subscript_errors(out <- vars_select_eval(vars, \n  .         expr, strict = strict, data = x, name_spec = name_spec, \n  .         uniquely_named = uniquely_named, allow_rename = allow_rename, \n  .         allow_empty = allow_empty, allow_predicates = allow_predicates, \n  .         type = type, error_call = error_call), type = type), \n  .     try_fetch(expr, vctrs_error_subscript = function(cnd) {\n  .         cnd$subscript_action <- subscript_action(type)\n  .         cnd$subscript_elt <- \"column\"\n  .         cnd_signal(cnd)\n  .     }), withCallingHandlers(expr, condition = function(cnd) {\n  .         {\n  .             .__handler_frame__. <- TRUE\n  .             .__setup_frame__. <- frame\n  .             if (inherits(cnd, \"message\")) {\n  .                 except <- c(\"warning\", \"error\")\n  .             }\n  .             else if (inherits(cnd, \"warning\")) {\n  .                 except <- \"error\"\n  .             }\n  .             else {\n  .                 except <- \"\"\n  .             }\n  .         }\n  .         while (!is_null(cnd)) {\n  .             if (inherits(cnd, \"vctrs_error_subscript\")) {\n  .                 out <- handlers[[1L]](cnd)\n  .                 if (!inherits(out, \"rlang_zap\")) \n  .                   throw(out)\n  .             }\n  .             inherit <- .subset2(.subset2(cnd, \"rlang\"), \"inherit\")\n  .             if (is_false(inherit)) {\n  .                 return()\n  .             }\n  .             cnd <- .subset2(cnd, \"parent\")\n  .         }\n  .     }), vars_select_eval(vars, expr, strict = strict, data = x, \n  .         name_spec = name_spec, uniquely_named = uniquely_named, \n  .         allow_rename = allow_rename, allow_empty = allow_empty, \n  .         allow_predicates = allow_predicates, type = type, error_call = error_call), \n  .     walk_data_tree(expr, data_mask, context_mask), eval_c(expr, \n  .         data_mask, context_mask), reduce_sels(node, data_mask, \n  .         context_mask, init = init), walk_data_tree(new, data_mask, \n  .         context_mask), as_indices_sel_impl(out, vars = vars, \n  .         strict = strict, data = data, allow_predicates = allow_predicates, \n  .         call = error_call, arg = as_label(expr)), as_indices_impl(x, \n  .         vars, call = call, arg = arg, strict = strict), chr_as_locations(x, \n  .         vars, call = call, arg = arg), vctrs::vec_as_location(x, \n  .         n = length(vars), names = vars, call = call, arg = arg), \n  .     `<fn>`(), stop_subscript_oob(i = i, subscript_type = subscript_type, \n  .         names = names, subscript_action = subscript_action, subscript_arg = subscript_arg, \n  .         call = call), stop_subscript(class = \"vctrs_error_subscript_oob\", \n  .         i = i, subscript_type = subscript_type, ..., call = call), \n  .     abort(class = c(class, \"vctrs_error_subscript\"), i = i, ..., \n  .         call = call)), parent = c(0L, 1L, 2L, 3L, 4L, 5L, 6L, \n  . 7L, 6L, 9L, 10L, 4L, 12L, 13L, 13L, 15L, 16L, 17L, 18L, 19L, \n  . 13L, 13L, 13L, 23L, 24L, 0L, 0L, 0L, 28L, 29L, 30L, 31L, 32L, \n  . 30L, 34L, 35L, 36L, 37L, 38L, 39L, 40L, 41L, 0L, 43L, 44L, 45L\n  . ), visible = c(TRUE, TRUE, TRUE, TRUE, TRUE, TRUE, TRUE, TRUE, \n  . TRUE, TRUE, TRUE, TRUE, TRUE, TRUE, TRUE, TRUE, TRUE, TRUE, TRUE, \n  . TRUE, TRUE, TRUE, TRUE, TRUE, TRUE, TRUE, TRUE, TRUE, FALSE, \n  . FALSE, FALSE, FALSE, FALSE, FALSE, FALSE, FALSE, FALSE, FALSE, \n  . FALSE, FALSE, FALSE, FALSE, FALSE, FALSE, FALSE, FALSE), namespace = c(\"IRkernel\", \n  . NA, \"IRkernel\", NA, \"base\", \"base\", \"base\", \"base\", \"base\", \"base\", \n  . \"base\", \"evaluate\", \"evaluate\", \"evaluate\", \"evaluate\", \"base\", \n  . \"base\", \"base\", \"base\", \"base\", \"base\", \"base\", \"evaluate\", \"base\", \n  . \"base\", NA, \"tidyr\", \"tidyr\", \"tidyselect\", \"tidyselect\", \"tidyselect\", \n  . \"rlang\", \"base\", \"tidyselect\", \"tidyselect\", \"tidyselect\", \"tidyselect\", \n  . \"tidyselect\", \"tidyselect\", \"tidyselect\", \"tidyselect\", \"vctrs\", \n  . \"vctrs\", \"vctrs\", \"vctrs\", \"rlang\"), scope = c(\"::\", NA, \"local\", \n  . NA, \"::\", \"local\", \"local\", \"local\", \"local\", \"local\", \"local\", \n  . \"::\", \":::\", \"local\", \"local\", \"::\", \"::\", \"local\", \"local\", \n  . \"local\", \"::\", \"::\", \":::\", \"::\", \"::\", NA, \"::\", \":::\", \"::\", \n  . \":::\", \":::\", \"::\", \"::\", \":::\", \":::\", \":::\", \":::\", \":::\", \n  . \":::\", \":::\", \":::\", \"::\", \"local\", \":::\", \":::\", \"::\"), error_frame = c(FALSE, \n  . FALSE, FALSE, FALSE, FALSE, FALSE, FALSE, FALSE, FALSE, FALSE, \n  . FALSE, FALSE, FALSE, FALSE, FALSE, FALSE, FALSE, FALSE, FALSE, \n  . FALSE, FALSE, FALSE, FALSE, FALSE, FALSE, FALSE, FALSE, TRUE, \n  . FALSE, FALSE, FALSE, FALSE, FALSE, FALSE, FALSE, FALSE, FALSE, \n  . FALSE, FALSE, FALSE, FALSE, FALSE, FALSE, FALSE, FALSE, FALSE\n  . )), row.names = c(NA, -46L), version = 2L, class = c(\"rlang_trace\", \n  . \"rlib_trace\", \"tbl\", \"data.frame\")), parent = NULL, i = \"SUELDO O SALARIO\", \n  .     subscript_type = \"character\", names = c(\"SEXO\", \"EDAD\", \"NIVEL DE ESTUDIOS APROBADOS\", \n  .     \"OCUPACIÓN A DOS DÍGITOS\", \"TAMAÑO EMPRESA\", \"SUELDO O SALARIOS\", \n  .     \"TIEMPO DE TRABAJO\"), subscript_action = NULL, subscript_arg = \"SUELDO O SALARIO\", \n  .     rlang = list(inherit = TRUE), call = drop_na(., `SUELDO O SALARIO`)), class = c(\"vctrs_error_subscript_oob\", \n  . \"vctrs_error_subscript\", \"rlang_error\", \"error\", \"condition\")))",
      "25. handlers[[1L]](cnd)",
      "26. cnd_signal(cnd)",
      "27. signal_abort(cnd)"
     ]
    }
   ],
   "source": [
    "# Filtrando\n",
    "datos <- base %>% drop_na(`SUELDO O SALARIO`)"
   ]
  },
  {
   "cell_type": "code",
   "execution_count": 17,
   "metadata": {
    "colab": {
     "base_uri": "https://localhost:8080/",
     "height": 52
    },
    "id": "ZGSe0ccFCndg",
    "outputId": "33cfb1ed-1357-4bd9-eda5-4957c5485ac7",
    "tags": [],
    "vscode": {
     "languageId": "r"
    }
   },
   "outputs": [
    {
     "ename": "ERROR",
     "evalue": "Error in summary(datos$`SUELDO O SALARIO`): object 'datos' not found\n",
     "output_type": "error",
     "traceback": [
      "Error in summary(datos$`SUELDO O SALARIO`): object 'datos' not found\nTraceback:\n",
      "1. summary(datos$`SUELDO O SALARIO`)"
     ]
    }
   ],
   "source": [
    "#Summary\n",
    "summary(datos$`SUELDO O SALARIO`)"
   ]
  },
  {
   "cell_type": "code",
   "execution_count": 18,
   "metadata": {
    "colab": {
     "base_uri": "https://localhost:8080/",
     "height": 129
    },
    "id": "weVyWTM7C4St",
    "outputId": "bf51cc04-5920-4dc1-d3e6-6241b5e68da0",
    "tags": [],
    "vscode": {
     "languageId": "r"
    }
   },
   "outputs": [
    {
     "ename": "ERROR",
     "evalue": "Error in count(., \"SUELDO O SALARIO\"): object 'datos' not found\n",
     "output_type": "error",
     "traceback": [
      "Error in count(., \"SUELDO O SALARIO\"): object 'datos' not found\nTraceback:\n",
      "1. datos %>% count(\"SUELDO O SALARIO\")",
      "2. count(., \"SUELDO O SALARIO\")"
     ]
    }
   ],
   "source": [
    "datos %>% count('SUELDO O SALARIO')"
   ]
  },
  {
   "cell_type": "code",
   "execution_count": null,
   "metadata": {
    "vscode": {
     "languageId": "r"
    }
   },
   "outputs": [],
   "source": []
  }
 ],
 "metadata": {
  "colab": {
   "provenance": []
  },
  "gpuClass": "standard",
  "kernelspec": {
   "display_name": "R",
   "language": "R",
   "name": "ir"
  },
  "language_info": {
   "codemirror_mode": "r",
   "file_extension": ".r",
   "mimetype": "text/x-r-source",
   "name": "R",
   "pygments_lexer": "r",
   "version": "4.2.3"
  }
 },
 "nbformat": 4,
 "nbformat_minor": 4
}
